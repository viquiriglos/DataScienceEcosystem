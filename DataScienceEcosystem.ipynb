{
 "cells": [
  {
   "cell_type": "markdown",
   "id": "66e25f91-e162-44fa-bdc3-414c45ec87d4",
   "metadata": {},
   "source": [
    "# Data Science Tools and Ecosystem "
   ]
  },
  {
   "cell_type": "markdown",
   "id": "60127e38-928c-498d-ac2b-2b0d28ae7389",
   "metadata": {},
   "source": [
    "In this notebook, Data Science Tools and Ecosystem are summarized."
   ]
  },
  {
   "cell_type": "markdown",
   "id": "12b3c152-55ed-4980-ac85-512fe6c19247",
   "metadata": {},
   "source": [
    "Some of the popular languages that Data Scientists use are:\n",
    "1. Python\n",
    "2. R\n",
    "3. Julia"
   ]
  },
  {
   "cell_type": "markdown",
   "id": "33e2f3ac-e996-4115-ad3c-48dd1c32cc7d",
   "metadata": {},
   "source": [
    "Some of the commonly used python libraries used by Data Scientists include:\n",
    "1. Numpy (for making computations with arrays)\n",
    "2. Pandas (to manipulate Data Frames)\n",
    "3. Matplotlib, Plotly and Seaborn (for data visualization)\n",
    "4. SciKitLearn, Pytorch and Keras (for Machine Learning tasks)"
   ]
  },
  {
   "cell_type": "markdown",
   "id": "eb233ebc-8952-475a-a5d6-3384c98bce5e",
   "metadata": {},
   "source": [
    "**Objectives**\n",
    "+ Markdown cells\n",
    "+ List Languages for DS\n",
    "+ List Popular Libraries for DS (in python)\n",
    "+ Making basic computations"
   ]
  },
  {
   "cell_type": "markdown",
   "id": "05c0fa93-e1a1-4451-a866-716988f66371",
   "metadata": {},
   "source": [
    "|Data Science Tools|\n",
    "|------------------|\n",
    "|VS Code|\n",
    "|Jupyter Notebooks|\n",
    "|R Studio|"
   ]
  },
  {
   "cell_type": "markdown",
   "id": "f20c7479-1f17-43cc-8445-1b74a40b516b",
   "metadata": {},
   "source": [
    "### Below are a few examples of evaluating arithmetic expressions in Python:"
   ]
  },
  {
   "cell_type": "code",
   "execution_count": 1,
   "id": "af60bd03-ce13-417f-b023-afcd686f6c5f",
   "metadata": {
    "tags": []
   },
   "outputs": [
    {
     "data": {
      "text/plain": [
       "17"
      ]
     },
     "execution_count": 1,
     "metadata": {},
     "output_type": "execute_result"
    }
   ],
   "source": [
    "# This a simple arithmetic expression to mutiply then add integers:\n",
    "(3*4)+5"
   ]
  },
  {
   "cell_type": "code",
   "execution_count": 2,
   "id": "b3364b77-bd82-4b86-bebc-4be034f0074c",
   "metadata": {
    "tags": []
   },
   "outputs": [
    {
     "data": {
      "text/plain": [
       "3.3333333333333335"
      ]
     },
     "execution_count": 2,
     "metadata": {},
     "output_type": "execute_result"
    }
   ],
   "source": [
    "# This will convert 200 minutes to hours by diving by 60:\n",
    "200/60"
   ]
  },
  {
   "cell_type": "markdown",
   "id": "5acd35fe-4829-46d4-b618-8e84590f2e80",
   "metadata": {},
   "source": [
    "## Author:\n",
    "Maria Victoria CASTRO DOMENECH"
   ]
  },
  {
   "cell_type": "code",
   "execution_count": null,
   "id": "508900aa-551d-408d-86c7-f83495086a8d",
   "metadata": {},
   "outputs": [],
   "source": []
  }
 ],
 "metadata": {
  "kernelspec": {
   "display_name": "Python",
   "language": "python",
   "name": "conda-env-python-py"
  },
  "language_info": {
   "codemirror_mode": {
    "name": "ipython",
    "version": 3
   },
   "file_extension": ".py",
   "mimetype": "text/x-python",
   "name": "python",
   "nbconvert_exporter": "python",
   "pygments_lexer": "ipython3",
   "version": "3.7.12"
  }
 },
 "nbformat": 4,
 "nbformat_minor": 5
}
